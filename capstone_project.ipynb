{
 "cells": [
  {
   "cell_type": "markdown",
   "metadata": {},
   "source": [
    "This notebook is created in purpose for completion of IBM Professional Data Science capstone Project"
   ]
  },
  {
   "cell_type": "code",
   "execution_count": 1,
   "metadata": {},
   "outputs": [
    {
     "name": "stdout",
     "output_type": "stream",
     "text": "Hello Capstone Project Course!\n"
    }
   ],
   "source": [
    "import pandas as pd\n",
    "import numpy as np\n",
    "print(\"Hello Capstone Project Course!\")"
   ]
  },
  {
   "cell_type": "markdown",
   "execution_count": null,
   "metadata": {},
   "outputs": [],
   "source": [
    "Introduction:"
   ]
  },
  {
   "cell_type": "markdown",
   "execution_count": null,
   "metadata": {},
   "outputs": [],
   "source": [
    "The subrban rail network in mumbai commonly known as local railway is known as lifeline of mumbai as it connects most of the commercial office locations where rent is as high as skyscrappers to suburbs from where majority of workforce travels to work. There are mainly 3 sub network of this network, namely central, western and harbour. So any suburb neighbourhood in mumbai is defined mostly by nearest train station. In this notebook we will try to find out based upon facilities which suburbs are similar to each other so that if someone's looking for apartment on rent he can decide out of similar suburbs which neighbourhood to pick based upon similarity and trade off between rent and proximity from city center"
   ]
  },
  {
   "cell_type": "markdown",
   "execution_count": null,
   "metadata": {},
   "outputs": [],
   "source": [
    "Data"
   ]
  },
  {
   "cell_type": "markdown",
   "execution_count": null,
   "metadata": {},
   "outputs": [],
   "source": [
    "For this we will mainly require 3 verticals:"
   ]
  },
  {
   "cell_type": "markdown",
   "execution_count": null,
   "metadata": {},
   "outputs": [],
   "source": [
    "1.List of suburb stations : obtained from this wikipedia page : (https://en.wikipedia.org/wiki/List_of_Mumbai_Suburban_Railway_stations) and we will extract data to pandas dataframe using beautifulsoup"
   ]
  },
  {
   "cell_type": "markdown",
   "execution_count": null,
   "metadata": {},
   "outputs": [],
   "source": [
    "2.Coordinates for stations obtained from python geocoder library"
   ]
  },
  {
   "cell_type": "markdown",
   "execution_count": null,
   "metadata": {},
   "outputs": [],
   "source": [
    "3.Neighbourhood places Data obtained from foursuare api"
   ]
  },
  {
   "cell_type": "code",
   "execution_count": 2,
   "metadata": {},
   "outputs": [],
   "source": [
    "from bs4 import BeautifulSoup\n",
    "import requests\n",
    "import geocoder\n",
    "url = \"https://en.wikipedia.org/wiki/List_of_Mumbai_Suburban_Railway_stations\"\n",
    "html = requests.get(url).text\n",
    "soup = BeautifulSoup(html, \"lxml\")"
   ]
  },
  {
   "cell_type": "code",
   "execution_count": 3,
   "metadata": {},
   "outputs": [
    {
     "data": {
      "text/plain": "e=\"Nagothane railway station\">Nagothane</a></td>\n<td>नागोठणे</td>\n<td style=\"text-align:center;\"></td>\n<td><a class=\"mw-redirect\" href=\"/wiki/Harbour_Line_(Mumbai_Suburban_Railway)\" title=\"Harbour Line (Mumbai Suburban Railway)\">Harbour Line</a></td>\n<td style=\"text-align:center;\"><img alt=\"☑\" data-file-height=\"600\" data-file-width=\"600\" decoding=\"async\" height=\"18\" src=\"//upload.wikimedia.org/wikipedia/en/thumb/f/fb/Yes_check.svg/18px-Yes_check.svg.png\" srcset=\"//upload.wikimedia.org/wikipedia/en/thumb/f/fb/Yes_check.svg/27px-Yes_check.svg.png 1.5x, //upload.wikimedia.org/wikipedia/en/thumb/f/fb/Yes_check.svg/36px-Yes_check.svg.png 2x\" width=\"18\"/><span style=\"display:none\">Y</span></td>\n<td style=\"text-align:center;\"><img alt=\"☑\" data-file-height=\"600\" data-file-width=\"600\" decoding=\"async\" height=\"18\" src=\"//upload.wikimedia.org/wikipedia/en/thumb/f/fb/Yes_check.svg/18px-Yes_check.svg.png\" srcset=\"//upload.wikimedia.org/wikipedia/en/thumb/f/fb/Yes_check.svg/27px-Yes_check.svg.png 1.5x, //upload.wikimedia.org/wikipedia/en/thumb/f/fb/Yes_check.svg/36px-Yes_check.svg.png 2x\" width=\"18\"/><span style=\"display:none\">Y</span></td>\n<td></td>\n<td>\n</td></tr>\n</tbody></table>\n<h2><span class=\"mw-headline\" id=\"Notes\">Notes</span><span class=\"mw-editsection\"><span class=\"mw-editsection-bracket\">[</span><a href=\"/w/index.php?title=List_of_Mumbai_Suburban_Railway_stations&amp;action=edit&amp;section=2\" title=\"Edit section: Notes\">edit</a><span class=\"mw-editsection-bracket\">]</span></span></h2>\n<div class=\"reflist\" style=\"list-style-type: lower-alpha;\">\n<div class=\"mw-references-wrap\"><ol class=\"references\">\n<li id=\"cite_note-1\"><span class=\"mw-cite-backlink\"><b><a href=\"#cite_ref-1\">^</a></b></span> <span class=\"reference-text\"><b>Fast train stop</b> indicates that fast services on the Mumbai Suburban Railway halt at this station. All Harbour Line services are slow services.</span>\n</li>\n<li id=\"cite_note-2\"><span class=\"mw-cite-backlink\"><b><a href=\"#cite_ref-2\">^</a></b></span> <span class=\"reference-text\"><b>Long Distance</b> indicates that trains other than local trains halt at this station. These trains are usually part of the <a href=\"/wiki/Indian_Railways\" title=\"Indian Railways\">Indian Railways</a> network.</span>\n</li>\n</ol></div></div>\n<h2><span class=\"mw-headline\" id=\"References\">References</span><span class=\"mw-editsection\"><span class=\"mw-editsection-bracket\">[</span><a href=\"/w/index.php?title=List_of_Mumbai_Suburban_Railway_stations&amp;action=edit&amp;section=3\" title=\"Edit section: References\">edit</a><span class=\"mw-editsection-bracket\">]</span></span></h2>\n<div class=\"reflist\" style=\"list-style-type: decimal;\">\n</div>\n<ul><li><a class=\"external text\" href=\"http://www.wr.indianrailways.gov.in/view_section.jsp?lang=0&amp;id=0,6\" rel=\"nofollow\">Mumbai Suburban Stations on Western Railway</a></li></ul>\n<!-- \nNewPP limit report\nParsed by mw1329\nCached time: 20191214183711\nCache expiry: 2592000\nDynamic content: false\nComplications: []\nCPU time usage: 0.520 seconds\nReal time usage: 0.554 seconds\nPreprocessor visited node count: 14593/1000000\nPreprocessor generated node count: 0/1500000\nPost‐expand include size: 37792/2097152 bytes\nTemplate argument size: 4323/2097152 bytes\nHighest expansion depth: 13/40\nExpensive parser function count: 2/500\nUnstrip recursion depth: 0/20\nUnstrip post‐expand size: 808/5000000 bytes\nNumber of Wikibase entities loaded: 0/400\nLua time usage: 0.011/10.000 seconds\nLua memory usage: 886 KB/50 MB\n-->\n<!--\nTransclusion expansion time report (%,ms,calls,template)\n100.00%  260.277      1 -total\n 27.43%   71.397    103 Template:Tick\n 23.88%   62.147    153 Template:Cross\n 18.23%   47.449      1 Template:Use_dmy_dates\n  9.91%   25.781    131 Template:Rws\n  7.47%   19.435      2 Template:DMCA\n  6.47%   16.832      2 Template:Dated_maintenance_category\n  4.31%   11.230      2 Template:FULLROOTPAGENAME\n  3.68%    9.570      1 Template:Notelist\n  3.16%    8.213      2 Template:Reflist\n-->\n<!-- Saved in parser cache with key enwiki:pcache:idhash:34164550-0!canonical and timestamp 20191214183711 and revision id 926979779\n -->\n</div><noscript><img alt=\"\" height=\"1\" src=\"//en.wikipedia.org/wiki/Special:CentralAutoLogin/start?type=1x1\" style=\"border: none; position: absolute;\" title=\"\" width=\"1\"/></noscript></div>\n<div class=\"printfooter\">Retrieved from \"<a dir=\"ltr\" href=\"https://en.wikipedia.org/w/index.php?title=List_of_Mumbai_Suburban_Railway_stations&amp;oldid=926979779\">https://en.wikipedia.org/w/index.php?title=List_of_Mumbai_Suburban_Railway_stations&amp;oldid=926979779</a>\"</div>\n<div class=\"catlinks\" data-mw=\"interface\" id=\"catlinks\"><div class=\"mw-normal-catlinks\" id=\"mw-normal-catlinks\"><a href=\"/wiki/Help:Category\" title=\"Help:Category\">Categories</a>: <ul><li><a href=\"/wiki/Category:Mumbai_Suburban_Railway_stations\" title=\"Category:Mumbai Suburban Railway stations\">Mumbai Suburban Railway stations</a></li><li><a href=\"/wiki/Category:Lists_of_railway_stations_in_India\" title=\"Category:Lists of railway stations in India\">Lists of railway stations in India</a></li><li><a href=\"/wiki/Category:Mumbai-related_lists\" title=\"Category:Mumbai-related lists\">Mumbai-related lists</a></li><li><a href=\"/wiki/Category:Lists_of_buildings_and_structures_in_Maharashtra\" title=\"Category:Lists of buildings and structures in Maharashtra\">Lists of buildings and structures in Maharashtra</a></li></ul></div><div class=\"mw-hidden-catlinks mw-hidden-cats-hidden\" id=\"mw-hidden-catlinks\">Hidden categories: <ul><li><a href=\"/wiki/Category:Use_dmy_dates_from_January_2016\" title=\"Category:Use dmy dates from January 2016\">Use dmy dates from January 2016</a></li><li><a href=\"/wiki/Category:Use_Indian_English_from_November_2018\" title=\"Category:Use Indian English from November 2018\">Use Indian English from November 2018</a></li><li><a href=\"/wiki/Category:All_Wikipedia_articles_written_in_Indian_English\" title=\"Category:All Wikipedia articles written in Indian English\">All Wikipedia articles written in Indian English</a></li></ul></div></div>\n<div class=\"visualClear\"></div>\n</div>\n</div>\n<div id=\"mw-data-after-content\">\n<div class=\"read-more-container\"></div>\n</div>\n<div id=\"mw-navigation\">\n<h2>Navigation menu</h2>\n<div id=\"mw-head\">\n<div aria-labelledby=\"p-personal-label\" id=\"p-personal\" role=\"navigation\">\n<h3 id=\"p-personal-label\">Personal tools</h3>\n<ul>\n<li id=\"pt-anonuserpage\">Not logged in</li><li id=\"pt-anontalk\"><a accesskey=\"n\" href=\"/wiki/Special:MyTalk\" title=\"Discussion about edits from this IP address [n]\">Talk</a></li><li id=\"pt-anoncontribs\"><a accesskey=\"y\" href=\"/wiki/Special:MyContributions\" title=\"A list of edits made from this IP address [y]\">Contributions</a></li><li id=\"pt-createaccount\"><a href=\"/w/index.php?title=Special:CreateAccount&amp;returnto=List+of+Mumbai+Suburban+Railway+stations\" title=\"You are encouraged to create an account and log in; however, it is not mandatory\">Create account</a></li><li id=\"pt-login\"><a accesskey=\"o\" href=\"/w/index.php?title=Special:UserLogin&amp;returnto=List+of+Mumbai+Suburban+Railway+stations\" title=\"You're encouraged to log in; however, it's not mandatory. [o]\">Log in</a></li> </ul>\n</div>\n<div id=\"left-navigation\">\n<div aria-labelledby=\"p-namespaces-label\" class=\"vectorTabs\" id=\"p-namespaces\" role=\"navigation\">\n<h3 id=\"p-namespaces-label\">Namespaces</h3>\n<ul>\n<li class=\"selected\" id=\"ca-nstab-main\"><a accesskey=\"c\" href=\"/wiki/List_of_Mumbai_Suburban_Railway_stations\" title=\"View the content page [c]\">Article</a></li><li id=\"ca-talk\"><a accesskey=\"t\" href=\"/wiki/Talk:List_of_Mumbai_Suburban_Railway_stations\" rel=\"discussion\" title=\"Discussion about the content page [t]\">Talk</a></li>\n</ul>\n</div>\n<div aria-labelledby=\"p-variants-label\" class=\"vectorMenu emptyPortlet\" id=\"p-variants\" role=\"navigation\">\n<input aria-labelledby=\"p-variants-label\" class=\"vectorMenuCheckbox\" type=\"checkbox\"/>\n<h3 id=\"p-variants-label\">\n<span>Variants</span>\n</h3>\n<ul class=\"menu\">\n</ul>\n</div>\n</div>\n<div id=\"right-navigation\">\n<div aria-labelledby=\"p-views-label\" class=\"vectorTabs\" id=\"p-views\" role=\"navigation\">\n<h3 id=\"p-views-label\">Views</h3>\n<ul>\n<li class=\"collapsible selected\" id=\"ca-view\"><a href=\"/wiki/List_of_Mumbai_Suburban_Railway_stations\">Read</a></li><li class=\"collapsible\" id=\"ca-edit\"><a accesskey=\"e\" href=\"/w/index.php?title=List_of_Mumbai_Suburban_Railway_stations&amp;action=edit\" title=\"Edit this page [e]\">Edit</a></li><li class=\"collapsible\" id=\"ca-history\"><a accesskey=\"h\" href=\"/w/index.php?title=List_of_Mumbai_Suburban_Railway_stations&amp;action=history\" title=\"Past revisions of this page [h]\">View history</a></li>\n</ul>\n</div>\n<div aria-labelledby=\"p-cactions-label\" class=\"vectorMenu emptyPortlet\" id=\"p-cactions\" role=\"navigation\">\n<input aria-labelledby=\"p-cactions-label\" class=\"vectorMenuCheckbox\" type=\"checkbox\"/>\n<h3 id=\"p-cactions-label\"><span>More</span></h3>\n<ul class=\"menu\">\n</ul>\n</div>\n<div id=\"p-search\" role=\"search\">\n<h3>\n<label for=\"searchInput\">Search</label>\n</h3>\n<form action=\"/w/index.php\" id=\"searchform\">\n<div id=\"simpleSearch\">\n<input accesskey=\"f\" id=\"searchInput\" name=\"search\" placeholder=\"Search Wikipedia\" title=\"Search Wikipedia [f]\" type=\"search\"/>\n<input name=\"title\" type=\"hidden\" value=\"Special:Search\"/>\n<input class=\"searchButton mw-fallbackSearchButton\" id=\"mw-searchButton\" name=\"fulltext\" title=\"Search Wikipedia for this text\" type=\"submit\" value=\"Search\"/>\n<input class=\"searchButton\" id=\"searchButton\" name=\"go\" title=\"Go to a page with this exact name if it exists\" type=\"submit\" value=\"Go\"/>\n</div>\n</form>\n</div>\n</div>\n</div>\n<div id=\"mw-panel\">\n<div id=\"p-logo\" role=\"banner\"><a class=\"mw-wiki-logo\" href=\"/wiki/Main_Page\" title=\"Visit the main page\"></a></div>\n<div aria-labelledby=\"p-navigation-label\" class=\"portal\" id=\"p-navigation\" role=\"navigation\">\n<h3 id=\"p-navigation-label\">Navigation</h3>\n<div class=\"body\">\n<ul>\n<li id=\"n-mainpage-description\"><a accesskey=\"z\" href=\"/wiki/Main_Page\" title=\"Visit the main page [z]\">Main page</a></li><li id=\"n-contents\"><a href=\"/wiki/Wikipedia:Contents\" title=\"Guides to browsing Wikipedia\">Contents</a></li><li id=\"n-featuredcontent\"><a href=\"/wiki/Wikipedia:Featured_content\" title=\"Featured content – the best of Wikipedia\">Featured content</a></li><li id=\"n-currentevents\"><a href=\"/wiki/Portal:Current_events\" title=\"Find background information on current events\">Current events</a></li><li id=\"n-randompage\"><a accesskey=\"x\" href=\"/wiki/Special:Random\" title=\"Load a random article [x]\">Random article</a></li><li id=\"n-sitesupport\"><a href=\"https://donate.wikimedia.org/wiki/Special:FundraiserRedirector?utm_source=donate&amp;utm_medium=sidebar&amp;utm_campaign=C13_en.wikipedia.org&amp;uselang=en\" title=\"Support us\">Donate to Wikipedia</a></li><li id=\"n-shoplink\"><a href=\"//shop.wikimedia.org\" title=\"Visit the Wikipedia store\">Wikipedia store</a></li> </ul>\n</div>\n</div>\n<div aria-labelledby=\"p-interaction-label\" class=\"portal\" id=\"p-interaction\" role=\"navigation\">\n<h3 id=\"p-interaction-label\">Interaction</h3>\n<div class=\"body\">\n<ul>\n<li id=\"n-help\"><a href=\"/wiki/Help:Contents\" title=\"Guidance on how to use and edit Wikipedia\">Help</a></li><li id=\"n-aboutsite\"><a href=\"/wiki/Wikipedia:About\" title=\"Find out about Wikipedia\">About Wikipedia</a></li><li id=\"n-portal\"><a href=\"/wiki/Wikipedia:Community_portal\" title=\"About the project, what you can do, where to find things\">Community portal</a></li><li id=\"n-recentchanges\"><a accesskey=\"r\" href=\"/wiki/Special:RecentChanges\" title=\"A list of recent changes in the wiki [r]\">Recent changes</a></li><li id=\"n-contactpage\"><a href=\"//en.wikipedia.org/wiki/Wikipedia:Contact_us\" title=\"How to contact Wikipedia\">Contact page</a></li> </ul>\n</div>\n</div>\n<div aria-labelledby=\"p-tb-label\" class=\"portal\" id=\"p-tb\" role=\"navigation\">\n<h3 id=\"p-tb-label\">Tools</h3>\n<div class=\"body\">\n<ul>\n<li id=\"t-whatlinkshere\"><a accesskey=\"j\" href=\"/wiki/Special:WhatLinksHere/List_of_Mumbai_Suburban_Railway_stations\" title=\"List of all English Wikipedia pages containing links to this page [j]\">What links here</a></li><li id=\"t-recentchangeslinked\"><a accesskey=\"k\" href=\"/wiki/Special:RecentChangesLinked/List_of_Mumbai_Suburban_Railway_stations\" rel=\"nofollow\" title=\"Recent changes in pages linked from this page [k]\">Related changes</a></li><li id=\"t-upload\"><a accesskey=\"u\" href=\"/wiki/Wikipedia:File_Upload_Wizard\" title=\"Upload files [u]\">Upload file</a></li><li id=\"t-specialpages\"><a accesskey=\"q\" href=\"/wiki/Special:SpecialPages\" title=\"A list of all special pages [q]\">Special pages</a></li><li id=\"t-permalink\"><a href=\"/w/index.php?title=List_of_Mumbai_Suburban_Railway_stations&amp;oldid=926979779\" title=\"Permanent link to this revision of the page\">Permanent link</a></li><li id=\"t-info\"><a href=\"/w/index.php?title=List_of_Mumbai_Suburban_Railway_stations&amp;action=info\" title=\"More information about this page\">Page information</a></li><li id=\"t-wikibase\"><a accesskey=\"g\" href=\"https://www.wikidata.org/wiki/Special:EntityPage/Q6590847\" title=\"Link to connected data repository item [g]\">Wikidata item</a></li><li id=\"t-cite\"><a href=\"/w/index.php?title=Special:CiteThisPage&amp;page=List_of_Mumbai_Suburban_Railway_stations&amp;id=926979779\" title=\"Information on how to cite this page\">Cite this page</a></li> </ul>\n</div>\n</div>\n<div aria-labelledby=\"p-coll-print_export-label\" class=\"portal\" id=\"p-coll-print_export\" role=\"navigation\">\n<h3 id=\"p-coll-print_export-label\">Print/export</h3>\n<div class=\"body\">\n<ul>\n<li id=\"coll-create_a_book\"><a href=\"/w/index.php?title=Special:Book&amp;bookcmd=book_creator&amp;referer=List+of+Mumbai+Suburban+Railway+stations\">Create a book</a></li><li id=\"coll-download-as-rl\"><a href=\"/w/index.php?title=Special:ElectronPdf&amp;page=List+of+Mumbai+Suburban+Railway+stations&amp;action=show-download-screen\">Download as PDF</a></li><li id=\"t-print\"><a accesskey=\"p\" href=\"/w/index.php?title=List_of_Mumbai_Suburban_Railway_stations&amp;printable=yes\" title=\"Printable version of this page [p]\">Printable version</a></li> </ul>\n</div>\n</div>\n<div aria-labelledby=\"p-lang-label\" class=\"portal\" id=\"p-lang\" role=\"navigation\">\n<h3 id=\"p-lang-label\">Languages</h3>\n<div class=\"body\">\n<ul>\n<li class=\"interlanguage-link interwiki-bn\"><a class=\"interlanguage-link-target\" href=\"https://bn.wikipedia.org/wiki/%E0%A6%AE%E0%A7%81%E0%A6%AE%E0%A7%8D%E0%A6%AC%E0%A6%87_%E0%A6%89%E0%A6%AA%E0%A6%A8%E0%A6%97%E0%A6%B0%E0%A7%80%E0%A6%AF%E0%A6%BC_%E0%A6%B0%E0%A7%87%E0%A6%B2%E0%A7%87%E0%A6%B0_%E0%A6%B8%E0%A7%8D%E0%A6%9F%E0%A7%87%E0%A6%B6%E0%A6%A8%E0%A6%B8%E0%A6%AE%E0%A7%82%E0%A6%B9%E0%A7%87%E0%A6%B0_%E0%A6%A4%E0%A6%BE%E0%A6%B2%E0%A6%BF%E0%A6%95%E0%A6%BE\" hreflang=\"bn\" lang=\"bn\" title=\"মুম্বই উপনগরীয় রেলের স্টেশনসমূহের তালিকা – Bangla\">বাংলা</a></li> </ul>\n<div class=\"after-portlet after-portlet-lang\"><span class=\"wb-langlinks-edit wb-langlinks-link\"><a class=\"wbc-editpage\" href=\"https://www.wikidata.org/wiki/Special:EntityPage/Q6590847#sitelinks-wikipedia\" title=\"Edit interlanguage links\">Edit links</a></span></div> </div>\n</div>\n</div>\n</div>\n<div id=\"footer\" role=\"contentinfo\">\n<ul id=\"footer-info\">\n<li id=\"footer-info-lastmod\"> This page was last edited on 19 November 2019, at 16:40<span class=\"anonymous-show\"> (UTC)</span>.</li>\n<li id=\"footer-info-copyright\">Text is available under the <a href=\"//en.wikipedia.org/wiki/Wikipedia:Text_of_Creative_Commons_Attribution-ShareAlike_3.0_Unported_License\" rel=\"license\">Creative Commons Attribution-ShareAlike License</a><a href=\"//creativecommons.org/licenses/by-sa/3.0/\" rel=\"license\" style=\"display:none;\"></a>;\nadditional terms may apply.  By using this site, you agree to the <a href=\"//foundation.wikimedia.org/wiki/Terms_of_Use\">Terms of Use</a> and <a href=\"//foundation.wikimedia.org/wiki/Privacy_policy\">Privacy Policy</a>. Wikipedia® is a registered trademark of the <a href=\"//www.wikimediafoundation.org/\">Wikimedia Foundation, Inc.</a>, a non-profit organization.</li>\n</ul>\n<ul id=\"footer-places\">\n<li id=\"footer-places-privacy\"><a class=\"extiw\" href=\"https://foundation.wikimedia.org/wiki/Privacy_policy\" title=\"wmf:Privacy policy\">Privacy policy</a></li>\n<li id=\"footer-places-about\"><a href=\"/wiki/Wikipedia:About\" title=\"Wikipedia:About\">About Wikipedia</a></li>\n<li id=\"footer-places-disclaimer\"><a href=\"/wiki/Wikipedia:General_disclaimer\" title=\"Wikipedia:General disclaimer\">Disclaimers</a></li>\n<li id=\"footer-places-contact\"><a href=\"//en.wikipedia.org/wiki/Wikipedia:Contact_us\">Contact Wikipedia</a></li>\n<li id=\"footer-places-developers\"><a href=\"https://www.mediawiki.org/wiki/Special:MyLanguage/How_to_contribute\">Developers</a></li>\n<li id=\"footer-places-statslink\"><a href=\"https://stats.wikimedia.org/v2/#/en.wikipedia.org\">Statistics</a></li>\n<li id=\"footer-places-cookiestatement\"><a href=\"https://foundation.wikimedia.org/wiki/Cookie_statement\">Cookie statement</a></li>\n<li id=\"footer-places-mobileview\"><a class=\"noprint stopMobileRedirectToggle\" href=\"//en.m.wikipedia.org/w/index.php?title=List_of_Mumbai_Suburban_Railway_stations&amp;mobileaction=toggle_view_mobile\">Mobile view</a></li>\n</ul>\n<ul class=\"noprint\" id=\"footer-icons\">\n<li id=\"footer-copyrightico\">\n<a href=\"https://wikimediafoundation.org/\"><img alt=\"Wikimedia Foundation\" height=\"31\" src=\"/static/images/wikimedia-button.png\" srcset=\"/static/images/wikimedia-button-1.5x.png 1.5x, /static/images/wikimedia-button-2x.png 2x\" width=\"88\"/></a> </li>\n<li id=\"footer-poweredbyico\">\n<a href=\"https://www.mediawiki.org/\"><img alt=\"Powered by MediaWiki\" height=\"31\" src=\"/static/images/poweredby_mediawiki_88x31.png\" srcset=\"/static/images/poweredby_mediawiki_132x47.png 1.5x, /static/images/poweredby_mediawiki_176x62.png 2x\" width=\"88\"/></a> </li>\n</ul>\n<div style=\"clear: both;\"></div>\n</div>\n<script>(RLQ=window.RLQ||[]).push(function(){mw.config.set({\"wgPageParseReport\":{\"limitreport\":{\"cputime\":\"0.520\",\"walltime\":\"0.554\",\"ppvisitednodes\":{\"value\":14593,\"limit\":1000000},\"ppgeneratednodes\":{\"value\":0,\"limit\":1500000},\"postexpandincludesize\":{\"value\":37792,\"limit\":2097152},\"templateargumentsize\":{\"value\":4323,\"limit\":2097152},\"expansiondepth\":{\"value\":13,\"limit\":40},\"expensivefunctioncount\":{\"value\":2,\"limit\":500},\"unstrip-depth\":{\"value\":0,\"limit\":20},\"unstrip-size\":{\"value\":808,\"limit\":5000000},\"entityaccesscount\":{\"value\":0,\"limit\":400},\"timingprofile\":[\"100.00%  260.277      1 -total\",\" 27.43%   71.397    103 Template:Tick\",\" 23.88%   62.147    153 Template:Cross\",\" 18.23%   47.449      1 Template:Use_dmy_dates\",\"  9.91%   25.781    131 Template:Rws\",\"  7.47%   19.435      2 Template:DMCA\",\"  6.47%   16.832      2 Template:Dated_maintenance_category\",\"  4.31%   11.230      2 Template:FULLROOTPAGENAME\",\"  3.68%    9.570      1 Template:Notelist\",\"  3.16%    8.213      2 Template:Reflist\"]},\"scribunto\":{\"limitreport-timeusage\":{\"value\":\"0.011\",\"limit\":\"10.000\"},\"limitreport-memusage\":{\"value\":907008,\"limit\":52428800}},\"cachereport\":{\"origin\":\"mw1329\",\"timestamp\":\"20191214183711\",\"ttl\":2592000,\"transientcontent\":false}}});});</script>\n<script type=\"application/ld+json\">{\"@context\":\"https:\\/\\/schema.org\",\"@type\":\"Article\",\"name\":\"List of Mumbai Suburban Railway stations\",\"url\":\"https:\\/\\/en.wikipedia.org\\/wiki\\/List_of_Mumbai_Suburban_Railway_stations\",\"sameAs\":\"http:\\/\\/www.wikidata.org\\/entity\\/Q6590847\",\"mainEntity\":\"http:\\/\\/www.wikidata.org\\/entity\\/Q6590847\",\"author\":{\"@type\":\"Organization\",\"name\":\"Contributors to Wikimedia projects\"},\"publisher\":{\"@type\":\"Organization\",\"name\":\"Wikimedia Foundation, Inc.\",\"logo\":{\"@type\":\"ImageObject\",\"url\":\"https:\\/\\/www.wikimedia.org\\/static\\/images\\/wmf-hor-googpub.png\"}},\"datePublished\":\"2011-12-23T10:15:25Z\",\"dateModified\":\"2019-11-19T16:40:03Z\",\"image\":\"https:\\/\\/upload.wikimedia.org\\/wikipedia\\/commons\\/7\\/78\\/Mumbai_Rail_Map_-_English.jpg\",\"headline\":\"Wikimedia list article\"}</script>\n<script>(RLQ=window.RLQ||[]).push(function(){mw.config.set({\"wgBackendResponseTime\":137,\"wgHostname\":\"mw1261\"});});</script>\n</body>\n</html>"
     },
     "execution_count": 3,
     "metadata": {},
     "output_type": "execute_result"
    }
   ],
   "source": [
    "soup"
   ]
  },
  {
   "cell_type": "code",
   "execution_count": 4,
   "metadata": {},
   "outputs": [
    {
     "name": "stdout",
     "output_type": "stream",
     "text": "Navi Mumbai\nNavi Mumbai\nBhiwandi Sub-District\nMumbai\nPanvel\nNashik\nNavi Mumbai\nPanvel Sub-District\nMumbai\nMumbai\nThane\nMumbai\nBhiwandi\nMumbai\nMumbai\nMumbai\nNavi Mumbai\nMumbai\nMumbai\nMumbai\nMumbai\nMumbai\nMumbai\nMumbai\nMumbai\nMumbai\nMumbai\nMumbai\nMumbai\nNavi Mumbai\nMumbai\nMumbai\nUlhasnagar\nMumbai\nPanvel Sub-District\nNavi Mumbai\nMumbai\nMumbai\nMumbai\nMumbai\nMumbai\nMumbai\nMira Bhayander\nNavi Mumbai\nPanvel\nThane\nStatus code Unknown from http://geocoder.cit.api.here.com/6.2/geocode.json: ERROR - HTTPConnectionPool(host='geocoder.cit.api.here.com', port=80): Read timed out. (read timeout=5.0)\nNone\nMumbai\nMumbai\nMumbai\nMumbai\nMumbai\nMumbai\nMumbai\nMumbai\nPanvel\nMumbai\nThane\nThane\nNavi Mumbai\nPanvel Sub-District\nKhalapur\nMumbai\nPanvel\nNavi Mumbai\nMumbai\nMumbai\nMumbai\nMumbai\nMumbai\nMumbai\nMumbai\nPanvel\nMumbai\nMumbai\nMumbai\nMumbai\nMumbai\nMumbai\nThane Sub-District\nMumbai\nMumbai\nMumbai\nNavi Mumbai\nNavi Mumbai\nPanvel Sub-District\nPanvel Sub-District\nDombivli\nDombivli\nPekanbaru\nPanvel Sub-District\nMumbai\nNavi Mumbai\nMumbai\nMumbai\nRoha\nRoha\nMumbai\nNavi Mumbai\nMumbai\nMumbai\nMumbai\nMumbai\nUlhasnagar\nAmbarnath Sub-District\nMumbai\nStatus code Unknown from http://geocoder.cit.api.here.com/6.2/geocode.json: ERROR - ('Connection aborted.', RemoteDisconnected('Remote end closed connection without response'))\nNone\nThane\nThane\nMumbai\nNavi Mumbai\nUlhasnagar\nUlhasnagar\nUlhasnagar\nSurat\nMumbai\nMumbai\nTalegaon Dabhade\nAmbarnath Sub-District\nAmbarnath Sub-District\nNavi Mumbai\nNavi Mumbai\nMumbai\nMumbai\nMumbai\nMumbai\nKalyan\nMumbai\nMumbai\nMumbai\nPanvel Sub-District\nPen\nPanvel Sub-District\nRoha\n"
    },
    {
     "data": {
      "text/html": "<div>\n<style scoped>\n    .dataframe tbody tr th:only-of-type {\n        vertical-align: middle;\n    }\n\n    .dataframe tbody tr th {\n        vertical-align: top;\n    }\n\n    .dataframe thead th {\n        text-align: right;\n    }\n</style>\n<table border=\"1\" class=\"dataframe\">\n  <thead>\n    <tr style=\"text-align: right;\">\n      <th></th>\n      <th>Name</th>\n      <th>Marathi Name</th>\n      <th>Line</th>\n      <th>Fast Local</th>\n      <th>Long Distance Trains</th>\n      <th>Latitude</th>\n      <th>Longitude</th>\n    </tr>\n  </thead>\n  <tbody>\n    <tr>\n      <td>0</td>\n      <td>Airoli</td>\n      <td>ऐरोली</td>\n      <td>Trans-Harbour Line</td>\n      <td>N</td>\n      <td>N</td>\n      <td>19.15559</td>\n      <td>72.99816</td>\n    </tr>\n    <tr>\n      <td>1</td>\n      <td>Ambarnath</td>\n      <td>अंबरनाथ</td>\n      <td>Central Line</td>\n      <td>Y</td>\n      <td>Y</td>\n      <td>NaN</td>\n      <td>NaN</td>\n    </tr>\n    <tr>\n      <td>2</td>\n      <td>Ambivli</td>\n      <td>आंबिवली</td>\n      <td>Central Line</td>\n      <td>N</td>\n      <td>Y</td>\n      <td>19.26608</td>\n      <td>73.17536</td>\n    </tr>\n    <tr>\n      <td>3</td>\n      <td>Andheri</td>\n      <td>अंधेरी</td>\n      <td>None</td>\n      <td>Y</td>\n      <td>Y</td>\n      <td>19.10393</td>\n      <td>72.86698</td>\n    </tr>\n    <tr>\n      <td>4</td>\n      <td>Asangaon</td>\n      <td>आसनगांव</td>\n      <td>Central Line</td>\n      <td>Y</td>\n      <td>Y</td>\n      <td>19.01843</td>\n      <td>73.10518</td>\n    </tr>\n    <tr>\n      <td>...</td>\n      <td>...</td>\n      <td>...</td>\n      <td>...</td>\n      <td>...</td>\n      <td>...</td>\n      <td>...</td>\n      <td>...</td>\n    </tr>\n    <tr>\n      <td>129</td>\n      <td>Sewri</td>\n      <td>शिवडी</td>\n      <td>Harbour Line</td>\n      <td>N</td>\n      <td>N</td>\n      <td>18.99636</td>\n      <td>72.85388</td>\n    </tr>\n    <tr>\n      <td>130</td>\n      <td>Taloja</td>\n      <td>तळोजे पंचानंद</td>\n      <td>Central Line</td>\n      <td>N</td>\n      <td>Y</td>\n      <td>19.09200</td>\n      <td>73.12157</td>\n    </tr>\n    <tr>\n      <td>131</td>\n      <td>Pen</td>\n      <td>पेण</td>\n      <td>Harbour Line</td>\n      <td>Y</td>\n      <td>Y</td>\n      <td>18.78300</td>\n      <td>73.09572</td>\n    </tr>\n    <tr>\n      <td>132</td>\n      <td>Rasayani</td>\n      <td>रसायनी</td>\n      <td>Harbour Line</td>\n      <td>Y</td>\n      <td>Y</td>\n      <td>18.91563</td>\n      <td>73.17682</td>\n    </tr>\n    <tr>\n      <td>133</td>\n      <td>Nagothane</td>\n      <td>नागोठणे</td>\n      <td>Harbour Line</td>\n      <td>Y</td>\n      <td>Y</td>\n      <td>18.54170</td>\n      <td>73.13863</td>\n    </tr>\n  </tbody>\n</table>\n<p>134 rows × 7 columns</p>\n</div>",
      "text/plain": "          Name   Marathi Name                Line Fast Local  \\\n0       Airoli          ऐरोली  Trans-Harbour Line          N   \n1    Ambarnath        अंबरनाथ        Central Line          Y   \n2      Ambivli        आंबिवली        Central Line          N   \n3      Andheri         अंधेरी                None          Y   \n4     Asangaon        आसनगांव        Central Line          Y   \n..         ...            ...                 ...        ...   \n129      Sewri          शिवडी        Harbour Line          N   \n130     Taloja  तळोजे पंचानंद        Central Line          N   \n131        Pen            पेण        Harbour Line          Y   \n132   Rasayani         रसायनी        Harbour Line          Y   \n133  Nagothane        नागोठणे        Harbour Line          Y   \n\n    Long Distance Trains  Latitude  Longitude  \n0                      N  19.15559   72.99816  \n1                      Y       NaN        NaN  \n2                      Y  19.26608   73.17536  \n3                      Y  19.10393   72.86698  \n4                      Y  19.01843   73.10518  \n..                   ...       ...        ...  \n129                    N  18.99636   72.85388  \n130                    Y  19.09200   73.12157  \n131                    Y  18.78300   73.09572  \n132                    Y  18.91563   73.17682  \n133                    Y  18.54170   73.13863  \n\n[134 rows x 7 columns]"
     },
     "execution_count": 4,
     "metadata": {},
     "output_type": "execute_result"
    }
   ],
   "source": [
    "table = soup.find_all('table')[1]\n",
    "tablerows = table.find_all('tr')[2:]\n",
    "dictPanda = {\"Name\":[], \"Marathi Name\":[], \"Line\":[], \"Fast Local\":[], \"Long Distance Trains\":[], \"Latitude\":[], \"Longitude\":[]}\n",
    "# b = tablerows[0].find_all('td')\n",
    "# b[5].span.string\n",
    "tablerows[25].find_all('td')[1].string = \"Dadar\"\n",
    "for x in tablerows:\n",
    "    y = x.find_all('td')\n",
    "    dictPanda['Name'].append(y[1].string)\n",
    "    dictPanda['Marathi Name'].append(y[2].string)\n",
    "    dictPanda['Line'].append(y[4].string)\n",
    "    if y[5].span: \n",
    "        dictPanda['Fast Local'].append(y[5].span.string)\n",
    "    else:\n",
    "        dictPanda['Fast Local'].append(None)\n",
    "    if y[6].span: \n",
    "        dictPanda['Long Distance Trains'].append(y[6].span.string)\n",
    "    else:\n",
    "        dictPanda['Long Distance Trains'].append(None) \n",
    "    try:\n",
    "        g = geocoder.here(y[1].string + \", Mumbai\", app_code='MbMD06-ftIoO5R8awmhr9A' , app_id='bcfqDH54Vl6fdzQm1Fkg')\n",
    "        if g and g.state and g.state == \"MH\":\n",
    "            dictPanda['Latitude'].append(g.lat)\n",
    "            dictPanda['Longitude'].append(g.lng)\n",
    "        else:\n",
    "            dictPanda['Latitude'].append(None)\n",
    "            dictPanda['Longitude'].append(None)\n",
    "    except:\n",
    "        dictPanda['Latitude'].append(None)\n",
    "        dictPanda['Longitude'].append(None)\n",
    "    print(g.city)\n",
    "df = pd.DataFrame(dictPanda)\n",
    "df\n"
   ]
  },
  {
   "cell_type": "markdown",
   "execution_count": null,
   "metadata": {},
   "outputs": [],
   "source": [
    "As you can see we could not get all geolocation ids from our provider, so let's insert from other provider as many as we can"
   ]
  },
  {
   "cell_type": "code",
   "execution_count": 8,
   "metadata": {},
   "outputs": [
    {
     "name": "stdout",
     "output_type": "stream",
     "text": "Maharashtra\nMaharashtra\nMaharashtra\nMaharashtra\nMaharashtra\nMaharashtra\nMaharashtra\nStatus code Unknown from https://nominatim.openstreetmap.org/search: ERROR - HTTPSConnectionPool(host='nominatim.openstreetmap.org', port=443): Read timed out. (read timeout=5.0)\nMaharashtra\nStatus code Unknown from https://nominatim.openstreetmap.org/search: ERROR - HTTPSConnectionPool(host='nominatim.openstreetmap.org', port=443): Read timed out. (read timeout=5.0)\nStatus code Unknown from https://nominatim.openstreetmap.org/search: ERROR - HTTPSConnectionPool(host='nominatim.openstreetmap.org', port=443): Read timed out. (read timeout=5.0)\nStatus code Unknown from https://nominatim.openstreetmap.org/search: ERROR - HTTPSConnectionPool(host='nominatim.openstreetmap.org', port=443): Read timed out. (read timeout=5.0)\nStatus code Unknown from https://nominatim.openstreetmap.org/search: ERROR - HTTPSConnectionPool(host='nominatim.openstreetmap.org', port=443): Read timed out. (read timeout=5.0)\nMaharashtra\nMaharashtra\nMaharashtra\nMaharashtra\nMaharashtra\nMaharashtra\nMaharashtra\nMaharashtra\nMaharashtra\nMaharashtra\nMaharashtra\nMaharashtra\n"
    },
    {
     "data": {
      "text/html": "<div>\n<style scoped>\n    .dataframe tbody tr th:only-of-type {\n        vertical-align: middle;\n    }\n\n    .dataframe tbody tr th {\n        vertical-align: top;\n    }\n\n    .dataframe thead th {\n        text-align: right;\n    }\n</style>\n<table border=\"1\" class=\"dataframe\">\n  <thead>\n    <tr style=\"text-align: right;\">\n      <th></th>\n      <th>Name</th>\n      <th>Marathi Name</th>\n      <th>Line</th>\n      <th>Fast Local</th>\n      <th>Long Distance Trains</th>\n      <th>Latitude</th>\n      <th>Longitude</th>\n    </tr>\n  </thead>\n  <tbody>\n    <tr>\n      <td>0</td>\n      <td>Airoli</td>\n      <td>ऐरोली</td>\n      <td>Trans-Harbour Line</td>\n      <td>N</td>\n      <td>N</td>\n      <td>19.155590</td>\n      <td>72.998160</td>\n    </tr>\n    <tr>\n      <td>1</td>\n      <td>Ambarnath</td>\n      <td>अंबरनाथ</td>\n      <td>Central Line</td>\n      <td>Y</td>\n      <td>Y</td>\n      <td>19.143607</td>\n      <td>73.295535</td>\n    </tr>\n    <tr>\n      <td>2</td>\n      <td>Ambivli</td>\n      <td>आंबिवली</td>\n      <td>Central Line</td>\n      <td>N</td>\n      <td>Y</td>\n      <td>19.266080</td>\n      <td>73.175360</td>\n    </tr>\n    <tr>\n      <td>3</td>\n      <td>Andheri</td>\n      <td>अंधेरी</td>\n      <td>None</td>\n      <td>Y</td>\n      <td>Y</td>\n      <td>19.103930</td>\n      <td>72.866980</td>\n    </tr>\n    <tr>\n      <td>4</td>\n      <td>Asangaon</td>\n      <td>आसनगांव</td>\n      <td>Central Line</td>\n      <td>Y</td>\n      <td>Y</td>\n      <td>19.018430</td>\n      <td>73.105180</td>\n    </tr>\n    <tr>\n      <td>...</td>\n      <td>...</td>\n      <td>...</td>\n      <td>...</td>\n      <td>...</td>\n      <td>...</td>\n      <td>...</td>\n      <td>...</td>\n    </tr>\n    <tr>\n      <td>129</td>\n      <td>Sewri</td>\n      <td>शिवडी</td>\n      <td>Harbour Line</td>\n      <td>N</td>\n      <td>N</td>\n      <td>18.996360</td>\n      <td>72.853880</td>\n    </tr>\n    <tr>\n      <td>130</td>\n      <td>Taloja</td>\n      <td>तळोजे पंचानंद</td>\n      <td>Central Line</td>\n      <td>N</td>\n      <td>Y</td>\n      <td>19.092000</td>\n      <td>73.121570</td>\n    </tr>\n    <tr>\n      <td>131</td>\n      <td>Pen</td>\n      <td>पेण</td>\n      <td>Harbour Line</td>\n      <td>Y</td>\n      <td>Y</td>\n      <td>18.783000</td>\n      <td>73.095720</td>\n    </tr>\n    <tr>\n      <td>132</td>\n      <td>Rasayani</td>\n      <td>रसायनी</td>\n      <td>Harbour Line</td>\n      <td>Y</td>\n      <td>Y</td>\n      <td>18.915630</td>\n      <td>73.176820</td>\n    </tr>\n    <tr>\n      <td>133</td>\n      <td>Nagothane</td>\n      <td>नागोठणे</td>\n      <td>Harbour Line</td>\n      <td>Y</td>\n      <td>Y</td>\n      <td>18.541700</td>\n      <td>73.138630</td>\n    </tr>\n  </tbody>\n</table>\n<p>134 rows × 7 columns</p>\n</div>",
      "text/plain": "          Name   Marathi Name                Line Fast Local  \\\n0       Airoli          ऐरोली  Trans-Harbour Line          N   \n1    Ambarnath        अंबरनाथ        Central Line          Y   \n2      Ambivli        आंबिवली        Central Line          N   \n3      Andheri         अंधेरी                None          Y   \n4     Asangaon        आसनगांव        Central Line          Y   \n..         ...            ...                 ...        ...   \n129      Sewri          शिवडी        Harbour Line          N   \n130     Taloja  तळोजे पंचानंद        Central Line          N   \n131        Pen            पेण        Harbour Line          Y   \n132   Rasayani         रसायनी        Harbour Line          Y   \n133  Nagothane        नागोठणे        Harbour Line          Y   \n\n    Long Distance Trains   Latitude  Longitude  \n0                      N  19.155590  72.998160  \n1                      Y  19.143607  73.295535  \n2                      Y  19.266080  73.175360  \n3                      Y  19.103930  72.866980  \n4                      Y  19.018430  73.105180  \n..                   ...        ...        ...  \n129                    N  18.996360  72.853880  \n130                    Y  19.092000  73.121570  \n131                    Y  18.783000  73.095720  \n132                    Y  18.915630  73.176820  \n133                    Y  18.541700  73.138630  \n\n[134 rows x 7 columns]"
     },
     "execution_count": 8,
     "metadata": {},
     "output_type": "execute_result"
    }
   ],
   "source": [
    "\n",
    "missing = df.loc[df.Latitude.isnull()]\n",
    "for x in missing.index:\n",
    "    g = geocoder.osm(missing.loc[x, 'Name'])\n",
    "    if g.state == \"Maharashtra\":\n",
    "        df.at[x, 'Latitude'] = g.lat\n",
    "        df.at[x, 'Longitude'] = g.lng\n",
    "        print(g.state)\n",
    "df"
   ]
  },
  {
   "cell_type": "code",
   "execution_count": 9,
   "metadata": {},
   "outputs": [],
   "source": [
    "df.to_csv(r'mumbaiLocation.csv')"
   ]
  },
  {
   "cell_type": "code",
   "execution_count": null,
   "metadata": {},
   "outputs": [],
   "source": []
  }
 ],
 "metadata": {
  "kernelspec": {
   "display_name": "Python 3",
   "language": "python",
   "name": "python3"
  },
  "language_info": {
   "codemirror_mode": {
    "name": "ipython",
    "version": 3
   },
   "file_extension": ".py",
   "mimetype": "text/x-python",
   "name": "python",
   "nbconvert_exporter": "python",
   "pygments_lexer": "ipython3",
   "version": "3.7.4"
  }
 },
 "nbformat": 4,
 "nbformat_minor": 2
}